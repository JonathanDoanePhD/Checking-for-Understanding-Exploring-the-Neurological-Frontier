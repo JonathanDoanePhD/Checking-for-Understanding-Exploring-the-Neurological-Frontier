{
 "cells": [
  {
   "cell_type": "code",
   "execution_count": 1,
   "id": "72461879-49dc-4a51-8689-95b5800f85d8",
   "metadata": {},
   "outputs": [],
   "source": [
    "a=1"
   ]
  },
  {
   "cell_type": "code",
   "execution_count": 2,
   "id": "c543f254-5951-46fa-acc9-bfb623645f66",
   "metadata": {},
   "outputs": [],
   "source": [
    "b=2"
   ]
  },
  {
   "cell_type": "code",
   "execution_count": 3,
   "id": "8ef4fd52-7107-4b40-84a3-0cbb4a16ccc7",
   "metadata": {},
   "outputs": [],
   "source": [
    "c=3"
   ]
  },
  {
   "cell_type": "code",
   "execution_count": 4,
   "id": "f4f31a26-cd6c-43fd-98c0-bb8e083346ed",
   "metadata": {},
   "outputs": [],
   "source": [
    "# def R(Bool=True):\n",
    "#     if Bool:\n",
    "#         raise KeyboardInterrupt\n",
    "#     else:\n",
    "#         pass\n",
    "# R(0)"
   ]
  },
  {
   "cell_type": "code",
   "execution_count": 5,
   "id": "ce5ae945-5ed7-4316-b963-52c9c6e4d38d",
   "metadata": {},
   "outputs": [],
   "source": [
    "class R(Exception):\n",
    "    def _render_traceback_(self):\n",
    "        pass\n",
    "\n",
    "raise R"
   ]
  },
  {
   "cell_type": "code",
   "execution_count": null,
   "id": "f9406fd9-a4d1-4d78-af65-b4eb1fe8ad44",
   "metadata": {},
   "outputs": [],
   "source": [
    "R(1)\n",
    "\n",
    "\n",
    "a+b"
   ]
  },
  {
   "cell_type": "code",
   "execution_count": null,
   "id": "d8db3638-cdd8-4210-911e-612d535b0fd7",
   "metadata": {},
   "outputs": [],
   "source": [
    "c+c"
   ]
  }
 ],
 "metadata": {
  "kernelspec": {
   "display_name": "Python 3 (ipykernel)",
   "language": "python",
   "name": "python3"
  },
  "language_info": {
   "codemirror_mode": {
    "name": "ipython",
    "version": 3
   },
   "file_extension": ".py",
   "mimetype": "text/x-python",
   "name": "python",
   "nbconvert_exporter": "python",
   "pygments_lexer": "ipython3",
   "version": "3.10.1"
  }
 },
 "nbformat": 4,
 "nbformat_minor": 5
}
